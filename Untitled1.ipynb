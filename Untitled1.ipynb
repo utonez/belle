{
  "nbformat": 4,
  "nbformat_minor": 0,
  "metadata": {
    "colab": {
      "provenance": [],
      "authorship_tag": "ABX9TyNW7k/L+x9TrdspJFctDn+t",
      "include_colab_link": true
    },
    "kernelspec": {
      "name": "python3",
      "display_name": "Python 3"
    },
    "language_info": {
      "name": "python"
    }
  },
  "cells": [
    {
      "cell_type": "markdown",
      "metadata": {
        "id": "view-in-github",
        "colab_type": "text"
      },
      "source": [
        "<a href=\"https://colab.research.google.com/github/utonez/belle/blob/main/Untitled1.ipynb\" target=\"_parent\"><img src=\"https://colab.research.google.com/assets/colab-badge.svg\" alt=\"Open In Colab\"/></a>"
      ]
    },
    {
      "cell_type": "code",
      "execution_count": null,
      "metadata": {
        "id": "hiVkyxONhZ0_"
      },
      "outputs": [],
      "source": [
        "%pip install gurobipy>=10\n",
        "import gurobipy as grb\n",
        "import numpy as np\n",
        "import math\n",
        "import matplotlib.pyplot as plt\n",
        "import scipy.stats"
      ]
    },
    {
      "cell_type": "code",
      "source": [
        "model = grb.Model(\"B&Q_Table_Production\")"
      ],
      "metadata": {
        "colab": {
          "base_uri": "https://localhost:8080/"
        },
        "id": "lEoON8kXjCKh",
        "outputId": "bbeb8147-283f-45d0-b356-f04071e69df6"
      },
      "execution_count": null,
      "outputs": [
        {
          "output_type": "stream",
          "name": "stdout",
          "text": [
            "Restricted license - for non-production use only - expires 2026-11-23\n"
          ]
        }
      ]
    },
    {
      "cell_type": "code",
      "source": [
        "x1 = model.addVar(vtype=grb.GRB.CONTINUOUS, name=\"x1\")  # x1：組裝完成的 Model A 桌子數量\n",
        "x2 = model.addVar(vtype=grb.GRB.CONTINUOUS, name=\"x2\")  # x2：組裝完成的 Model B 桌子數量\n",
        "x3 = model.addVar(vtype=grb.GRB.CONTINUOUS, name=\"x3\")  # x3：短桌腳總數（每張 Model A 桌子需要 4 支）\n",
        "x4 = model.addVar(vtype=grb.GRB.CONTINUOUS, name=\"x4\")  # x4：長桌腳總數（每張 Model B 桌子需要 4 支）\n",
        "x5 = model.addVar(vtype=grb.GRB.CONTINUOUS, name=\"x5\")  # x5：桌面總數（每張桌子需要 1 個）"
      ],
      "metadata": {
        "id": "uLHSZCErjnDd"
      },
      "execution_count": null,
      "outputs": []
    },
    {
      "cell_type": "code",
      "source": [
        "model.addConstr(1.5 * x3 + 2.5 * x4 <= 500)# 桌腳的總長度限制：1.5 英尺/短桌腳，2.5 英尺/長桌腳，最多 500 英尺\n",
        "model.addConstr(0.1 * x3 + 0.15 * x4 + 0.5 * x5 + 0.3 * x1 + 0.3 * x2 <= 80) #總工時限制\n",
        "model.addConstr(x3 == 4 * x1)# 每張 Model A 桌子需 4 支短桌腳\n",
        "model.addConstr(x4 == 4 * x2)# 每張 Model B 桌子需 4 支長桌腳\n",
        "model.addConstr(x5 == x1 + x2)# 每張桌子（A 或 B）都需要 1 個桌面\n"
      ],
      "metadata": {
        "colab": {
          "base_uri": "https://localhost:8080/"
        },
        "id": "jq2SA04_j_I2",
        "outputId": "92ac9f91-0b45-430e-c704-1f4930357093"
      },
      "execution_count": null,
      "outputs": [
        {
          "output_type": "execute_result",
          "data": {
            "text/plain": [
              "<gurobi.Constr *Awaiting Model Update*>"
            ]
          },
          "metadata": {},
          "execution_count": 6
        }
      ]
    },
    {
      "cell_type": "code",
      "source": [
        "obj = 30 * x1 + 45 * x2# 每張 Model A 利潤 $30，Model B 利潤 $45\n",
        "model.setObjective(obj, grb.GRB.MAXIMIZE)# 最大化總利潤\n",
        "model.update()# 更新模型\n",
        "model.optimize()# 求解最佳解\n"
      ],
      "metadata": {
        "colab": {
          "base_uri": "https://localhost:8080/"
        },
        "id": "jntrC9cwpYuk",
        "outputId": "2e2abd36-30cc-4230-8a1d-5659bead0f88"
      },
      "execution_count": null,
      "outputs": [
        {
          "output_type": "stream",
          "name": "stdout",
          "text": [
            "Gurobi Optimizer version 12.0.1 build v12.0.1rc0 (linux64 - \"Ubuntu 22.04.4 LTS\")\n",
            "\n",
            "CPU model: Intel(R) Xeon(R) CPU @ 2.20GHz, instruction set [SSE2|AVX|AVX2]\n",
            "Thread count: 1 physical cores, 2 logical processors, using up to 2 threads\n",
            "\n",
            "Optimize a model with 5 rows, 5 columns and 14 nonzeros\n",
            "Model fingerprint: 0xf4661bf2\n",
            "Coefficient statistics:\n",
            "  Matrix range     [1e-01, 4e+00]\n",
            "  Objective range  [3e+01, 4e+01]\n",
            "  Bounds range     [0e+00, 0e+00]\n",
            "  RHS range        [8e+01, 5e+02]\n",
            "Presolve removed 3 rows and 3 columns\n",
            "Presolve time: 0.01s\n",
            "Presolved: 2 rows, 2 columns, 4 nonzeros\n",
            "\n",
            "Iteration    Objective       Primal Inf.    Dual Inf.      Time\n",
            "       0    2.5000000e+03   5.319950e+01   0.000000e+00      0s\n",
            "       2    2.3333333e+03   0.000000e+00   0.000000e+00      0s\n",
            "\n",
            "Solved in 2 iterations and 0.02 seconds (0.00 work units)\n",
            "Optimal objective  2.333333333e+03\n"
          ]
        }
      ]
    },
    {
      "cell_type": "code",
      "source": [
        "print(model.Status == grb.GRB.OPTIMAL)# 顯示是否找到最佳解\n",
        "print(model.display())# 顯示模型資訊（變數、限制式等）"
      ],
      "metadata": {
        "colab": {
          "base_uri": "https://localhost:8080/"
        },
        "id": "eK_R02dHprGa",
        "outputId": "ce04958e-8d6c-4821-f541-61379c9589a4"
      },
      "execution_count": null,
      "outputs": [
        {
          "output_type": "stream",
          "name": "stdout",
          "text": [
            "True\n",
            "Maximize\n",
            "  30.0 x1 + 45.0 x2\n",
            "Subject To\n",
            "  R0: 1.5 x3 + 2.5 x4 <= 500\n",
            "  R1: 0.3 x1 + 0.3 x2 + 0.1 x3 + 0.15 x4 + 0.5 x5 <= 80\n",
            "  R2: -4.0 x1 + x3 = 0\n",
            "  R3: -4.0 x2 + x4 = 0\n",
            "  R4: -1.0 x1 + -1.0 x2 + x5 = 0\n",
            "None\n"
          ]
        },
        {
          "output_type": "stream",
          "name": "stderr",
          "text": [
            "<ipython-input-8-7d7f5d072209>:2: DeprecationWarning: Model.display() is deprecated\n",
            "  print(model.display())# 顯示模型資訊（變數、限制式等）\n"
          ]
        }
      ]
    },
    {
      "cell_type": "code",
      "source": [
        "for v in model.getVars(): # 輸出每個變數的最佳值\n",
        "  print(v.VarName, v.X)"
      ],
      "metadata": {
        "colab": {
          "base_uri": "https://localhost:8080/"
        },
        "id": "pnpgZ51xp2Ir",
        "outputId": "0b63d92d-78a6-4efd-d2b7-dd6e8fbef660"
      },
      "execution_count": null,
      "outputs": [
        {
          "output_type": "stream",
          "name": "stdout",
          "text": [
            "x1 27.77777777777777\n",
            "x2 33.333333333333336\n",
            "x3 111.11111111111109\n",
            "x4 133.33333333333334\n",
            "x5 61.11111111111111\n"
          ]
        }
      ]
    },
    {
      "cell_type": "code",
      "source": [
        "optobj=model.getObjective()# 取得最佳目標值\n",
        "print(optobj.getValue())# 輸出最大利潤"
      ],
      "metadata": {
        "colab": {
          "base_uri": "https://localhost:8080/"
        },
        "id": "UEgxmWRPp4li",
        "outputId": "75bde47f-85e5-4c80-80cc-0a0554f0a3a5"
      },
      "execution_count": null,
      "outputs": [
        {
          "output_type": "stream",
          "name": "stdout",
          "text": [
            "9333.333333333332\n"
          ]
        }
      ]
    },
    {
      "cell_type": "markdown",
      "source": [
        "Q2"
      ],
      "metadata": {
        "id": "Vd-PFH8-qJJC"
      }
    },
    {
      "cell_type": "code",
      "source": [
        "model_2 = grb.Model(\"Basketball_Lineup\")"
      ],
      "metadata": {
        "id": "X8Q-F2IRuhTe"
      },
      "execution_count": null,
      "outputs": []
    },
    {
      "cell_type": "code",
      "source": [
        "ballHanding = np.array([3, 2, 2, 1, 3, 3, 3])# 控球能力分數（7 位球員）\n",
        "shooting = np.array([3, 1, 3, 3, 3, 1, 2])# 投籃能力分數\n",
        "rebounding = np.array([1, 3, 2, 3, 3, 2, 2])# 籃板能力分數\n",
        "defense = np.array([3, 2, 2, 1, 3, 3, 1])# 防守能力分數\n",
        "I = 7# 總共有 7 位球員"
      ],
      "metadata": {
        "id": "443ZWsv6sh5n"
      },
      "execution_count": null,
      "outputs": []
    },
    {
      "cell_type": "code",
      "source": [
        "x = model_2.addVars([(i) for i in range(I)], vtype = grb.GRB.BINARY, name = \"x\")# 建立 7 個二元變數 x[i]，是否選擇第 i 位球員，若選擇第 i 號球員，x[i] = 1，否則 x[i] = 0"
      ],
      "metadata": {
        "id": "mfxh_bbx0Vdx"
      },
      "execution_count": null,
      "outputs": []
    },
    {
      "cell_type": "code",
      "source": [
        "model_2.addConstr(grb.quicksum(x[i] for i in [0, 2, 4, 6] ) >= 4)#至少選4位來自 1、3、5、7 號球員\n",
        "model_2.addConstr(grb.quicksum(x[i] for i in [2, 3, 4, 5, 6] ) >= 2)#至少選2位來自 3、4、5、7 號球員\n",
        "model_2.addConstr(grb.quicksum(x[i] for i in [1, 3, 5] ) >= 1)#至少選1位來自 2、4、6 號球員\n",
        "\n",
        "model_2.addConstr(3 * x[0] + 2 * x[1] + 2 * x[2] + 1 * x[3] + 3 * x[4] + 3 * x[5] + 3 * x[6] >= 10)#控球能力總和至少為 10(除5人後為2)\n",
        "model_2.addConstr(3 * x[0] + 1 * x[1] + 3 * x[2] + 3 * x[3] + 3 * x[4] + 1 * x[5] + 2 * x[6] >= 10)#投籃能力總和至少為 10\n",
        "model_2.addConstr(1 * x[0] + 3 * x[1] + 2 * x[2] + 3 * x[3] + 3 * x[4] + 2 * x[5] + 2 * x[6] >= 10)#籃板能力總和至少為 10\n",
        "model_2.addConstr(x[2] + x[5] <= 1)# 不能同時選 2 號和 5 號球員\n",
        "model_2.addConstr(x[0] - x[3] <= 0)# 若選 0 號，必須選 3 號\n",
        "model_2.addConstr(x[0] - x[4] <= 0)# 若選 0 號，必須選 4 號\n",
        "model_2.addConstr(x[1] + x[2] >= 1)# 至少選 1 位 1 或 2 號球員"
      ],
      "metadata": {
        "colab": {
          "base_uri": "https://localhost:8080/"
        },
        "id": "2sU3r_EexV4K",
        "outputId": "428fba82-36c7-460d-a657-73ee461432cb"
      },
      "execution_count": null,
      "outputs": [
        {
          "output_type": "execute_result",
          "data": {
            "text/plain": [
              "<gurobi.Constr *Awaiting Model Update*>"
            ]
          },
          "metadata": {},
          "execution_count": 15
        }
      ]
    },
    {
      "cell_type": "code",
      "source": [
        "obj_2 = grb.quicksum(defense[i] * x[i] for i in range(I))# 最大化防守能力總和\n",
        "model_2.setObjective(obj_2, grb.GRB.MAXIMIZE)# 設定目標為最大化\n",
        "model_2.update()# 更新模型\n",
        "model_2.optimize()# 求解最佳解"
      ],
      "metadata": {
        "colab": {
          "base_uri": "https://localhost:8080/"
        },
        "id": "qEaXLO0Jvo-_",
        "outputId": "3d0530fb-b168-4227-fcba-06db4ed3bbb6"
      },
      "execution_count": null,
      "outputs": [
        {
          "output_type": "stream",
          "name": "stdout",
          "text": [
            "Gurobi Optimizer version 12.0.1 build v12.0.1rc0 (linux64 - \"Ubuntu 22.04.4 LTS\")\n",
            "\n",
            "CPU model: Intel(R) Xeon(R) CPU @ 2.20GHz, instruction set [SSE2|AVX|AVX2]\n",
            "Thread count: 1 physical cores, 2 logical processors, using up to 2 threads\n",
            "\n",
            "Optimize a model with 10 rows, 7 columns and 41 nonzeros\n",
            "Model fingerprint: 0xc6f9a028\n",
            "Variable types: 0 continuous, 7 integer (7 binary)\n",
            "Coefficient statistics:\n",
            "  Matrix range     [1e+00, 3e+00]\n",
            "  Objective range  [1e+00, 3e+00]\n",
            "  Bounds range     [1e+00, 1e+00]\n",
            "  RHS range        [1e+00, 1e+01]\n",
            "Presolve removed 10 rows and 7 columns\n",
            "Presolve time: 0.00s\n",
            "Presolve: All rows and columns removed\n",
            "\n",
            "Explored 0 nodes (0 simplex iterations) in 0.01 seconds (0.00 work units)\n",
            "Thread count was 1 (of 2 available processors)\n",
            "\n",
            "Solution count 1: 12 \n",
            "\n",
            "Optimal solution found (tolerance 1.00e-04)\n",
            "Best objective 1.200000000000e+01, best bound 1.200000000000e+01, gap 0.0000%\n"
          ]
        }
      ]
    },
    {
      "cell_type": "code",
      "source": [
        "print(model_2.Status == grb.GRB.OPTIMAL)# 顯示是否找到最佳解\n",
        "model.printStats()# 顯示模型資訊"
      ],
      "metadata": {
        "colab": {
          "base_uri": "https://localhost:8080/"
        },
        "id": "tcluslwDy0P2",
        "outputId": "479229e0-d3b1-4380-a6f7-21bf54ac2b37"
      },
      "execution_count": 20,
      "outputs": [
        {
          "output_type": "stream",
          "name": "stdout",
          "text": [
            "True\n",
            "Statistics for model 'B&Q_Table_Production':\n",
            "  Problem type                : LP\n",
            "  Linear constraint matrix    : 5 rows, 5 columns, 14 nonzeros\n",
            "  Variable types              : 5 continuous, 0 integer (0 binary)\n",
            "  Matrix range                : [1e-01, 4e+00]\n",
            "  Objective range             : [3e+01, 4e+01]\n",
            "  Bounds range                : [0e+00, 0e+00]\n",
            "  RHS range                   : [8e+01, 5e+02]\n"
          ]
        }
      ]
    },
    {
      "cell_type": "code",
      "source": [
        "for v in model_2.getVars():# 輸出每個變數的最佳值（是否選擇該球員）\n",
        "  print(v.VarName, v.X)"
      ],
      "metadata": {
        "colab": {
          "base_uri": "https://localhost:8080/"
        },
        "id": "2oUHL9kRy5t8",
        "outputId": "80523c20-baa0-4fca-9a14-04360b0c1fce"
      },
      "execution_count": null,
      "outputs": [
        {
          "output_type": "stream",
          "name": "stdout",
          "text": [
            "x[0] 1.0\n",
            "x[1] 1.0\n",
            "x[2] 1.0\n",
            "x[3] 1.0\n",
            "x[4] 1.0\n",
            "x[5] 0.0\n",
            "x[6] 1.0\n"
          ]
        }
      ]
    },
    {
      "cell_type": "code",
      "source": [
        "optobj=model_2.getObjective()# 取得最佳目標值\n",
        "print(optobj.getValue())# 輸出最大防守分數"
      ],
      "metadata": {
        "colab": {
          "base_uri": "https://localhost:8080/"
        },
        "id": "w2i8Egi1zQUg",
        "outputId": "8fae18ff-8a0a-400d-dcb5-7426b09999c3"
      },
      "execution_count": null,
      "outputs": [
        {
          "output_type": "stream",
          "name": "stdout",
          "text": [
            "12.0\n"
          ]
        }
      ]
    }
  ]
}