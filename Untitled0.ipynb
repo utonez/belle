{
  "nbformat": 4,
  "nbformat_minor": 0,
  "metadata": {
    "colab": {
      "provenance": [],
      "authorship_tag": "ABX9TyMJD6PzQszX4mwiNgMQG6gx",
      "include_colab_link": true
    },
    "kernelspec": {
      "name": "python3",
      "display_name": "Python 3"
    },
    "language_info": {
      "name": "python"
    }
  },
  "cells": [
    {
      "cell_type": "markdown",
      "metadata": {
        "id": "view-in-github",
        "colab_type": "text"
      },
      "source": [
        "<a href=\"https://colab.research.google.com/github/utonez/belle/blob/main/Untitled0.ipynb\" target=\"_parent\"><img src=\"https://colab.research.google.com/assets/colab-badge.svg\" alt=\"Open In Colab\"/></a>"
      ]
    },
    {
      "cell_type": "code",
      "execution_count": 1,
      "metadata": {
        "id": "VLmNQ24DzRDV"
      },
      "outputs": [],
      "source": [
        "%pip install gurobipy>=10\n",
        "import gurobipy as grb\n",
        "import numpy as np\n",
        "import math\n",
        "import matplotlib.pyplot as plt\n",
        "import scipy.stats"
      ]
    },
    {
      "cell_type": "markdown",
      "source": [
        "Q1"
      ],
      "metadata": {
        "id": "H4X1oG9s0Qgb"
      }
    },
    {
      "cell_type": "code",
      "source": [
        "demand = [620, 490, 510, 380] # Demand from regions\n",
        "profit = [1.60, 1.40, 1.90, 1.20] # Profit by region\n",
        "max_production = 0.6 * sum(demand) # Production limit\n",
        "# create model\n",
        "Model1 = grb.Model(\"Maximize_Profit\")\n",
        "# define variable（quantity supply by region）\n",
        "x = Model1.addVars(4, vtype = grb.GRB.CONTINUOUS, name=\"x\")"
      ],
      "metadata": {
        "colab": {
          "base_uri": "https://localhost:8080/"
        },
        "id": "hNjeMXfM0T4M",
        "outputId": "051eff05-5a2e-4bc0-9dd0-fd858af15564"
      },
      "execution_count": 2,
      "outputs": [
        {
          "output_type": "stream",
          "name": "stdout",
          "text": [
            "Restricted license - for non-production use only - expires 2026-11-23\n"
          ]
        }
      ]
    },
    {
      "cell_type": "code",
      "source": [
        "# add constraints\n",
        "Model1.addConstr(sum(x[i] for i in range(4)) <= max_production, \"ProductionLimit\")\n",
        "for i in range(4):\n",
        "  Model1.addConstr(0.5 * demand[i] <= x[i], f\"MinSupply_{i}\")\n",
        "  Model1.addConstr(x[i] <= 0.7 * demand[i], f\"MaxSupply_{i}\")"
      ],
      "metadata": {
        "id": "WivGLjlN0cXO"
      },
      "execution_count": 5,
      "outputs": []
    },
    {
      "cell_type": "code",
      "source": [
        "obj1 = grb.quicksum(profit[i] * x[i] for i in range(4))\n",
        "Model1.setObjective(obj1 ,grb.GRB.MAXIMIZE)\n",
        "Model1.update()\n",
        "Model1.optimize()"
      ],
      "metadata": {
        "colab": {
          "base_uri": "https://localhost:8080/"
        },
        "id": "kmqlv7cF08gi",
        "outputId": "dbc15898-ad30-48a5-f638-1ad587a0d75c"
      },
      "execution_count": 6,
      "outputs": [
        {
          "output_type": "stream",
          "name": "stdout",
          "text": [
            "Gurobi Optimizer version 12.0.1 build v12.0.1rc0 (linux64 - \"Ubuntu 22.04.4 LTS\")\n",
            "\n",
            "CPU model: AMD EPYC 7B12, instruction set [SSE2|AVX|AVX2]\n",
            "Thread count: 1 physical cores, 2 logical processors, using up to 2 threads\n",
            "\n",
            "Optimize a model with 9 rows, 4 columns and 12 nonzeros\n",
            "Model fingerprint: 0x2e337596\n",
            "Coefficient statistics:\n",
            "  Matrix range     [1e+00, 1e+00]\n",
            "  Objective range  [1e+00, 2e+00]\n",
            "  Bounds range     [0e+00, 0e+00]\n",
            "  RHS range        [2e+02, 1e+03]\n",
            "Presolve removed 8 rows and 0 columns\n",
            "Presolve time: 0.01s\n",
            "Presolved: 1 rows, 4 columns, 4 nonzeros\n",
            "\n",
            "Iteration    Objective       Primal Inf.    Dual Inf.      Time\n",
            "       0    1.9315000e+03   1.225000e+01   0.000000e+00      0s\n",
            "       1    1.9021000e+03   0.000000e+00   0.000000e+00      0s\n",
            "\n",
            "Solved in 1 iterations and 0.01 seconds (0.00 work units)\n",
            "Optimal objective  1.902100000e+03\n"
          ]
        }
      ]
    },
    {
      "cell_type": "code",
      "source": [
        "print(Model1.Status == grb.GRB.OPTIMAL)\n",
        "print(Model1.display())\n",
        "\n"
      ],
      "metadata": {
        "colab": {
          "base_uri": "https://localhost:8080/"
        },
        "id": "9geejKvX1MqE",
        "outputId": "5e61259a-95d5-44e4-8448-385c646da148"
      },
      "execution_count": 7,
      "outputs": [
        {
          "output_type": "stream",
          "name": "stdout",
          "text": [
            "True\n",
            "Maximize\n",
            "  1.6 x[0] + 1.4 x[1] + 1.9 x[2] + 1.2 x[3]\n",
            "Subject To\n",
            "  ProductionLimit: x[0] + x[1] + x[2] + x[3] <= 1200\n",
            "  MinSupply_0: x[0] >= 310\n",
            "  MaxSupply_0: x[0] <= 434\n",
            "  MinSupply_1: x[1] >= 245\n",
            "  MaxSupply_1: x[1] <= 343\n",
            "  MinSupply_2: x[2] >= 255\n",
            "  MaxSupply_2: x[2] <= 357\n",
            "  MinSupply_3: x[3] >= 190\n",
            "  MaxSupply_3: x[3] <= 266\n",
            "None\n"
          ]
        },
        {
          "output_type": "stream",
          "name": "stderr",
          "text": [
            "<ipython-input-7-ad53ac7b6639>:2: DeprecationWarning: Model.display() is deprecated\n",
            "  print(Model1.display())\n"
          ]
        }
      ]
    },
    {
      "cell_type": "code",
      "source": [
        "#Print optimal decisions\n",
        "for v in Model1.getVars():\n",
        "  print(v.VarName, v.X)\n"
      ],
      "metadata": {
        "colab": {
          "base_uri": "https://localhost:8080/"
        },
        "id": "gNp0QrIa1X6X",
        "outputId": "30e5bbfb-9107-49e2-e0c9-a115af6135d1"
      },
      "execution_count": 9,
      "outputs": [
        {
          "output_type": "stream",
          "name": "stdout",
          "text": [
            "x[0] 408.0\n",
            "x[1] 245.0\n",
            "x[2] 357.0\n",
            "x[3] 190.0\n"
          ]
        }
      ]
    },
    {
      "cell_type": "code",
      "source": [
        "#Print optimal objective value\n",
        "optobj=Model1.getObjective()\n",
        "print(optobj.getValue())"
      ],
      "metadata": {
        "colab": {
          "base_uri": "https://localhost:8080/"
        },
        "id": "0a8zYnZ21YAc",
        "outputId": "99d893e9-3d59-437c-dd54-c10526733695"
      },
      "execution_count": 10,
      "outputs": [
        {
          "output_type": "stream",
          "name": "stdout",
          "text": [
            "1902.1\n"
          ]
        }
      ]
    },
    {
      "cell_type": "markdown",
      "source": [
        "Q2"
      ],
      "metadata": {
        "id": "RAqX0J_m1gxb"
      }
    },
    {
      "cell_type": "code",
      "source": [
        "# define parameter\n",
        "cost = [200, 150, 100, 75] # cost per ton\n",
        "protein = [0.60, 0.80, 0.55, 0.40] # protein ratio\n",
        "fat = [0.50, 0.70, 0.40, 1.00] # fat ratio\n",
        "fiber = [0.90, 0.30, 0.60, 0.80] # fiber ratio\n",
        "# create mogel\n",
        "Model2 = grb.Model(\"Minimize_Feed_Cost\")\n",
        "# define variable(the proportion of each ingredient)\n",
        "y = Model2.addVars(4, vtype = grb.GRB.CONTINUOUS, name=\"y\")\n"
      ],
      "metadata": {
        "id": "LBHRisSH1iDO"
      },
      "execution_count": 11,
      "outputs": []
    },
    {
      "cell_type": "code",
      "source": [
        "# add constraints（meet nutritional needs）\n",
        "Model2.addConstr(grb.quicksum(protein[i] * y[i] for i in range(4)) >= 0.6, \"ProteinLimit\")\n",
        "Model2.addConstr(grb.quicksum(fiber[i] * y[i] for i in range(4)) >= 0.6, \"FiberLimit\")\n",
        "Model2.addConstr(grb.quicksum(fat[i] * y[i] for i in range(4)) <= 0.6, \"FatLimit\")\n",
        "Model2.addConstr(grb.quicksum(y[i] for i in range(4)) == 1, \"TotalMix\")"
      ],
      "metadata": {
        "colab": {
          "base_uri": "https://localhost:8080/"
        },
        "id": "9rI2gr3x1-f5",
        "outputId": "3bc11ae7-8493-4743-a198-92079c54b8d8"
      },
      "execution_count": 12,
      "outputs": [
        {
          "output_type": "execute_result",
          "data": {
            "text/plain": [
              "<gurobi.Constr *Awaiting Model Update*>"
            ]
          },
          "metadata": {},
          "execution_count": 12
        }
      ]
    },
    {
      "cell_type": "code",
      "source": [
        "obj2 = grb.quicksum(cost[i] * y[i] for i in range(4))\n",
        "Model2.setObjective(obj2 ,grb.GRB.MINIMIZE)\n",
        "Model2.update()\n",
        "Model2.optimize()"
      ],
      "metadata": {
        "colab": {
          "base_uri": "https://localhost:8080/"
        },
        "id": "9vh9hICj2Jod",
        "outputId": "9a9f3cbd-38bb-46ef-88c7-9f5f65fb2c25"
      },
      "execution_count": 13,
      "outputs": [
        {
          "output_type": "stream",
          "name": "stdout",
          "text": [
            "Gurobi Optimizer version 12.0.1 build v12.0.1rc0 (linux64 - \"Ubuntu 22.04.4 LTS\")\n",
            "\n",
            "CPU model: AMD EPYC 7B12, instruction set [SSE2|AVX|AVX2]\n",
            "Thread count: 1 physical cores, 2 logical processors, using up to 2 threads\n",
            "\n",
            "Optimize a model with 4 rows, 4 columns and 16 nonzeros\n",
            "Model fingerprint: 0xd75caa71\n",
            "Coefficient statistics:\n",
            "  Matrix range     [3e-01, 1e+00]\n",
            "  Objective range  [8e+01, 2e+02]\n",
            "  Bounds range     [0e+00, 0e+00]\n",
            "  RHS range        [6e-01, 1e+00]\n",
            "Presolve time: 0.01s\n",
            "Presolved: 4 rows, 4 columns, 16 nonzeros\n",
            "\n",
            "Iteration    Objective       Primal Inf.    Dual Inf.      Time\n",
            "       0    7.5000000e+01   6.000000e-01   0.000000e+00      0s\n",
            "       4    1.2500000e+02   0.000000e+00   0.000000e+00      0s\n",
            "\n",
            "Solved in 4 iterations and 0.01 seconds (0.00 work units)\n",
            "Optimal objective  1.250000000e+02\n"
          ]
        }
      ]
    },
    {
      "cell_type": "code",
      "source": [
        "print(Model2.Status == grb.GRB.OPTIMAL)\n",
        "print(Model2.display())"
      ],
      "metadata": {
        "colab": {
          "base_uri": "https://localhost:8080/"
        },
        "id": "HqHvSzBV2LZW",
        "outputId": "7df44d8c-710e-41dd-9795-eb4538fdf388"
      },
      "execution_count": 14,
      "outputs": [
        {
          "output_type": "stream",
          "name": "stdout",
          "text": [
            "True\n",
            "Minimize\n",
            "  200.0 y[0] + 150.0 y[1] + 100.0 y[2] + 75.0 y[3]\n",
            "Subject To\n",
            "  ProteinLimit: 0.6 y[0] + 0.8 y[1] + 0.55 y[2] + 0.4 y[3] >= 0.6\n",
            "  FiberLimit: 0.9 y[0] + 0.3 y[1] + 0.6 y[2] + 0.8 y[3] >= 0.6\n",
            "  FatLimit: 0.5 y[0] + 0.7 y[1] + 0.4 y[2] + y[3] <= 0.6\n",
            "  TotalMix: y[0] + y[1] + y[2] + y[3] = 1\n",
            "None\n"
          ]
        },
        {
          "output_type": "stream",
          "name": "stderr",
          "text": [
            "<ipython-input-14-a7d0ba7156fa>:2: DeprecationWarning: Model.display() is deprecated\n",
            "  print(Model2.display())\n"
          ]
        }
      ]
    },
    {
      "cell_type": "code",
      "source": [
        "#Print optimal decisions\n",
        "for v in Model2.getVars():\n",
        "  print(v.VarName, v.X)"
      ],
      "metadata": {
        "colab": {
          "base_uri": "https://localhost:8080/"
        },
        "id": "feqPXvzw2Ze5",
        "outputId": "d3cfaa92-99f7-40f2-a988-0ee60da2500b"
      },
      "execution_count": 15,
      "outputs": [
        {
          "output_type": "stream",
          "name": "stdout",
          "text": [
            "y[0] 0.1666666666666664\n",
            "y[1] 0.16666666666666652\n",
            "y[2] 0.6666666666666671\n",
            "y[3] 0.0\n"
          ]
        }
      ]
    },
    {
      "cell_type": "code",
      "source": [
        "#Print optimal objective value\n",
        "optobj=Model2.getObjective()\n",
        "print(optobj.getValue())"
      ],
      "metadata": {
        "colab": {
          "base_uri": "https://localhost:8080/"
        },
        "id": "mDvAoGTL2cFW",
        "outputId": "a7bb35f1-498f-4fe9-8f88-e3285a4d621a"
      },
      "execution_count": 16,
      "outputs": [
        {
          "output_type": "stream",
          "name": "stdout",
          "text": [
            "124.99999999999997\n"
          ]
        }
      ]
    },
    {
      "cell_type": "markdown",
      "source": [
        "Q3"
      ],
      "metadata": {
        "id": "dMwmKCLo2lf0"
      }
    },
    {
      "cell_type": "code",
      "source": [
        "# Define parameter\n",
        "quality1 = [99, 70, 78, 91]\n",
        "quality2 = [210, 335, 280, 265]\n",
        "cost = [48, 43, 58, 46]\n",
        "# Create model\n",
        "Model3 = grb.Model(\"Minimize_Gasoline_Cost\")\n",
        "# Define variable（Proportion of various types of gasoline）\n",
        "z = Model3.addVars(4, vtype = grb.GRB.CONTINUOUS, name=\"z\")\n",
        "\"Add constraints (satisfy quality requirements)\"\n",
        "Model3.addConstr(grb.quicksum(quality1[i] * z[i] for i in range(4)) >= 85, \"Quality1_Min\")\n",
        "Model3.addConstr(grb.quicksum(quality1[i] * z[i] for i in range(4)) <= 90, \"Quality1_Max\")\n",
        "Model3.addConstr(grb.quicksum(quality2[i] * z[i] for i in range(4)) >= 270, \"Quality2_Min\")\n",
        "Model3.addConstr(grb.quicksum(quality2[i] * z[i] for i in range(4)) <= 280, \"Quality2_Max\")\n",
        "Model3.addConstr(grb.quicksum(z[i] for i in range(4)) == 1, \"TotalBlend\")"
      ],
      "metadata": {
        "id": "RHS7Mqw83Lx0"
      },
      "execution_count": null,
      "outputs": []
    },
    {
      "cell_type": "code",
      "source": [
        "obj3 = grb.quicksum(cost[i] * z[i] for i in range(4))\n",
        "Model3.setObjective(obj3 ,grb.GRB.MINIMIZE)\n",
        "Model3.update()\n",
        "Model3.optimize()"
      ],
      "metadata": {
        "colab": {
          "base_uri": "https://localhost:8080/"
        },
        "id": "VmQ0iPYA7CXa",
        "outputId": "7e2f5598-3b32-4944-f68c-146455a61681"
      },
      "execution_count": 19,
      "outputs": [
        {
          "output_type": "stream",
          "name": "stdout",
          "text": [
            "Gurobi Optimizer version 12.0.1 build v12.0.1rc0 (linux64 - \"Ubuntu 22.04.4 LTS\")\n",
            "\n",
            "CPU model: AMD EPYC 7B12, instruction set [SSE2|AVX|AVX2]\n",
            "Thread count: 1 physical cores, 2 logical processors, using up to 2 threads\n",
            "\n",
            "Optimize a model with 5 rows, 4 columns and 20 nonzeros\n",
            "Model fingerprint: 0x8c90df40\n",
            "Coefficient statistics:\n",
            "  Matrix range     [1e+00, 3e+02]\n",
            "  Objective range  [4e+01, 6e+01]\n",
            "  Bounds range     [0e+00, 0e+00]\n",
            "  RHS range        [1e+00, 3e+02]\n",
            "Presolve removed 2 rows and 0 columns\n",
            "Presolve time: 0.01s\n",
            "Presolved: 3 rows, 6 columns, 14 nonzeros\n",
            "\n",
            "Iteration    Objective       Primal Inf.    Dual Inf.      Time\n",
            "       0    4.3000000e+01   1.113249e+01   0.000000e+00      0s\n",
            "       5    4.5294118e+01   0.000000e+00   0.000000e+00      0s\n",
            "\n",
            "Solved in 5 iterations and 0.01 seconds (0.00 work units)\n",
            "Optimal objective  4.529411765e+01\n"
          ]
        }
      ]
    },
    {
      "cell_type": "code",
      "source": [
        "print(Model3.Status == grb.GRB.OPTIMAL)\n",
        "print(Model3.display())"
      ],
      "metadata": {
        "colab": {
          "base_uri": "https://localhost:8080/"
        },
        "id": "MSCvAwSl7JKO",
        "outputId": "81db1082-b94d-4b03-878d-21f26e1048c0"
      },
      "execution_count": 20,
      "outputs": [
        {
          "output_type": "stream",
          "name": "stdout",
          "text": [
            "True\n",
            "Minimize\n",
            "  48.0 z[0] + 43.0 z[1] + 58.0 z[2] + 46.0 z[3]\n",
            "Subject To\n",
            "  Quality1_Min: 99.0 z[0] + 70.0 z[1] + 78.0 z[2] + 91.0 z[3] >= 85\n",
            "  Quality1_Max: 99.0 z[0] + 70.0 z[1] + 78.0 z[2] + 91.0 z[3] <= 90\n",
            "  Quality2_Min: 210.0 z[0] + 335.0 z[1] + 280.0 z[2] + 265.0 z[3] >= 270\n",
            "  Quality2_Max: 210.0 z[0] + 335.0 z[1] + 280.0 z[2] + 265.0 z[3] <= 280\n",
            "  TotalBlend: z[0] + z[1] + z[2] + z[3] = 1\n",
            "None\n"
          ]
        },
        {
          "output_type": "stream",
          "name": "stderr",
          "text": [
            "<ipython-input-20-8b6659a5dbb5>:2: DeprecationWarning: Model.display() is deprecated\n",
            "  print(Model3.display())\n"
          ]
        }
      ]
    },
    {
      "cell_type": "code",
      "source": [
        "#Print optimal decisions\n",
        "for v in Model3.getVars():\n",
        "  print(v.VarName, v.X)"
      ],
      "metadata": {
        "colab": {
          "base_uri": "https://localhost:8080/"
        },
        "id": "XU6r98pF7Qjd",
        "outputId": "66f8729c-88f4-49b2-8540-9a5edddee45e"
      },
      "execution_count": 21,
      "outputs": [
        {
          "output_type": "stream",
          "name": "stdout",
          "text": [
            "z[0] 0.17647058823529357\n",
            "z[1] 0.3529411764705878\n",
            "z[2] 0.0\n",
            "z[3] 0.47058823529411864\n"
          ]
        }
      ]
    },
    {
      "cell_type": "code",
      "source": [
        "#Print optimal objective value\n",
        "optobj=Model3.getObjective()\n",
        "print(optobj.getValue())"
      ],
      "metadata": {
        "colab": {
          "base_uri": "https://localhost:8080/"
        },
        "id": "r9OLdcXv7aF2",
        "outputId": "514c8a0a-08a6-4ff3-ca05-16968b5b1e7e"
      },
      "execution_count": 22,
      "outputs": [
        {
          "output_type": "stream",
          "name": "stdout",
          "text": [
            "45.294117647058826\n"
          ]
        }
      ]
    }
  ]
}